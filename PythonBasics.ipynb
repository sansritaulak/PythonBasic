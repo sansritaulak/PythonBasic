{
  "nbformat": 4,
  "nbformat_minor": 0,
  "metadata": {
    "colab": {
      "name": "PythonBasics.ipynb",
      "provenance": [],
      "collapsed_sections": [],
      "authorship_tag": "ABX9TyOrO0IyYQuv3uE4Ciko560j"
    },
    "kernelspec": {
      "name": "python3",
      "display_name": "Python 3"
    },
    "language_info": {
      "name": "python"
    },
    "accelerator": "GPU",
    "gpuClass": "standard"
  },
  "cells": [
    {
      "cell_type": "markdown",
      "source": [
        "###Variables\n",
        "Variables are containers that can store any values.\n",
        "\n",
        "for example:\n",
        "\n",
        "    rent = 1200\n",
        "    gas = 202.5\n",
        "    groceries = 305.6\n",
        "    print(rent)\n",
        "    total = rent + gas + groceries\n",
        "    print(total)\n",
        " \n",
        "To create a variable to store text data:\n",
        "\n",
        "    rent = 1400\n",
        "    item1 = \"Rent\"\n",
        "    item2 = \"Gas\"\n",
        "    item2 = \"Groceries\"\n",
        "    print(\"Expense items:\",item1,item2,item3)\n",
        "\n",
        "<u>Rules for naming the variables</u>\n",
        "* Pre-defined keywords cannot be used as a variable name. \n",
        "* Special characters cannot be used in the variable name. \n"
      ],
      "metadata": {
        "id": "VSvZffjHTrt3"
      }
    },
    {
      "cell_type": "code",
      "source": [
        "rent = 1200\n",
        "gas = 202.5\n",
        "groceries = 305.6\n",
        "print(rent)\n",
        "total = rent + gas + groceries\n",
        "print(total)"
      ],
      "metadata": {
        "id": "wmM4YpbkT2fY"
      },
      "execution_count": null,
      "outputs": []
    },
    {
      "cell_type": "code",
      "source": [
        "rent = 1400\n",
        "item1 = \"Rent\"\n",
        "item2 = \"Gas\"\n",
        "item3 = \"Groceries\"\n",
        "print(\"Expense items:\",item1,item2,item3)"
      ],
      "metadata": {
        "id": "aBMHFc33T9YM"
      },
      "execution_count": null,
      "outputs": []
    },
    {
      "cell_type": "markdown",
      "source": [
        "###Numbers\n",
        "For addition, \"+\" operator is used.\n",
        "    \n",
        "    2+4\n",
        "For subtraction, \"-\" operator is used.\n",
        "\n",
        "    4-2\n",
        "For multiplication, \"*\" operator is used.\n",
        "\n",
        "    4*2\n",
        "For division, \"/\" operator is used.\n",
        "\n",
        "    4/2\n",
        "For remainder, \"%\" operator is used.\n",
        "\n",
        "    11%2\n",
        "For power, \"**\" operator is used.\n",
        "\n",
        "    2**4\n",
        "For example:\n",
        "\n",
        "    pkr_ktm = 200.6\n",
        "    ktm_ctw = 97.7\n",
        "    total_distance = pkr_ktm + ktm_ctw\n",
        "    print(total_distance)\n",
        "    mph = 50 \n",
        "    time = total_distance/mph\n",
        "    print(time)\n",
        "\n",
        "<u>round() fuction</u>\n",
        "\n",
        "Syntax:\n",
        "\n",
        "    rount(variable,decimal digits)\n",
        "\n",
        "* Python has priorities on certain mathematical operators.\n",
        " \n",
        "For example:\n",
        "  10+2*3 \n",
        "  \n",
        "  then python first multiplies \n",
        "  \n",
        "  2*3 = 6\n",
        "\n",
        "  and then adds\n",
        "\n",
        "  6+10 = 16 "
      ],
      "metadata": {
        "id": "4t2PATD8T6LD"
      }
    },
    {
      "cell_type": "code",
      "source": [
        "pkr_ktm = 200.6\n",
        "ktm_ctw = 97.7\n",
        "total_distance = pkr_ktm + ktm_ctw\n",
        "print(total_distance)\n",
        "mph = 50 \n",
        "time = total_distance/mph\n",
        "print(time)\n",
        "round(time,2)"
      ],
      "metadata": {
        "id": "kz9rPCX2T5Rq"
      },
      "execution_count": null,
      "outputs": []
    },
    {
      "cell_type": "markdown",
      "source": [
        "###Strings\n",
        "Strings are used to store text data in python.\n",
        "\n",
        "        text = \"Hello World\"\n",
        "\n",
        "* The words of the text is stored as like of the array so \n",
        "\n",
        "            >>text[1]\n",
        "            'e'\n",
        "            >>text[0]\n",
        "            'H'\n",
        "            >>text[0 : 5]\n",
        "            'Hello'\n",
        "* We can keep either \"\" or '' while writing the string.\n",
        " This can be used if we have either of these in the text.\n",
        "\n",
        "* While writing a string with multiple lines, the text should be kept \n",
        "  inside ' ' '. . .' ' '\n",
        "\n",
        "  For example:\n",
        "    \n",
        "        >>text = ''' Hello Everyone.\n",
        "                  My name is Sansrita. '''\n",
        "          print(text)\n",
        "          \n",
        "          Hello Everyone\n",
        "          My name is Sansrita.\n",
        "\n",
        "* Internall it is stored as Hello Everyone \\nMy name is Sansrita.\n",
        "  \n",
        "  It uses the \\n operator which can be defined as new line.\n",
        "\n",
        "* The '+' operator is string is used to combine two strings.\n",
        "\n",
        "* If we need to combine a string with a number, a function str(num) is used to convert the number into a string and hence is combined using the '+' operator."
      ],
      "metadata": {
        "id": "hDmjGGqoUGwM"
      }
    },
    {
      "cell_type": "code",
      "source": [
        "text = \"Hello World \"\n",
        "print(text)\n",
        "text2 = 'Hello World 2'\n",
        "print(text2)\n",
        "text3 = \"It's a string\"\n",
        "print(text3)\n",
        "text4 = 'Hello \"World\"'\n",
        "print(text4)\n",
        "text5 = text + text3\n",
        "print(text5)\n",
        "num = 19\n",
        "age = \"My age is \"\n",
        "sen = age + str(num)\n",
        "print(sen)\n",
        "id = '''Hello Everyone\n",
        "My name is Sansrita'''\n",
        "print(id)\n"
      ],
      "metadata": {
        "id": "dTTjk0OlUFQp"
      },
      "execution_count": null,
      "outputs": []
    },
    {
      "cell_type": "markdown",
      "source": [
        "###Lists\n",
        "Lists is used to store multiple data in same variable as a form of list.\n",
        "\n",
        "Syntax:\n",
        "\n",
        "        list_name = [\"item1\",\"item2\",\"item3\"]\n",
        "\n",
        "* Lists are stored in the computer memory as an array.\n",
        "<ul type=\"circle\">\n",
        "<li>item1's location is in the 0th location.\n",
        "<li>item2's location is in the 1st location and so on.\n",
        "</ul>\n",
        "\n",
        "* If we want to prnt the item in the 1st location\n",
        "\n",
        "        list_name[1]\n",
        "* If we want to change the item in the 1st location\n",
        "\n",
        "        list_name[1] = \"item4\"\n",
        "        >>list_name\n",
        "          ['item4','item2','item3']\n",
        "\n",
        "* Similarly, as of the strings. If we want to print out a range of the elements \n",
        "\n",
        "        list_name[0:2]\n",
        "  This prints the first 2 elements.\n",
        "\n",
        "  To print the last element in the list we can use a negative index.\n",
        "\n",
        "  For example:\n",
        "\n",
        "      list_name[-1]\n",
        "\n",
        "*  If we have to add items to our list, a method named append is used.\n",
        "   \n",
        "   For example:\n",
        "          list_name.append = 'item1'\n",
        "          >>list_name\n",
        "            ['item4','item2','item3','item1']\n",
        "\n",
        "* If we have to add the item in a certain location in the list, a method named \n",
        "insert is used.\n",
        "\n",
        "  For example:\n",
        "          \n",
        "          list_name.insert(1,'item5')\n",
        "\n",
        "  This places the 'item5' after item4 i.e.\n",
        "\n",
        "          >>list_name\n",
        "            ['item4','item5','item2','item3','item1']\n",
        "\n",
        "* The '+' operator can be used to add two lists together.\n",
        "  \n",
        "  ######Note:\n",
        "\n",
        "  ###### A list and a string/number cannot be combined together using the '+' operator.\n",
        " \n",
        "* The len() function can be used to find the length of the list.\n",
        "\n",
        "  For example:\n",
        "\n",
        "          >>len(list_name)\n",
        "            5\n",
        "\n",
        "* 'in' operator is used to find wheather the item is in the list or not.\n",
        "  \n",
        "  For example:\n",
        "          \n",
        "          >>\"item5\" in list_name\n",
        "            True\n",
        "\n",
        "\n",
        "\n"
      ],
      "metadata": {
        "id": "dMHYGg3xUOaL"
      }
    },
    {
      "cell_type": "code",
      "source": [
        "eat = [\"Pizza\",\"MoMo\",\"Pasta\"]\n",
        "drinks = [\"Juice\",\"Coke\"]\n",
        "\n",
        "#if we want to print 1st item \n",
        "print(eat[0])\n",
        "\n",
        "#if we want to print 1st and 2nd item\n",
        "print(eat[0:2])\n",
        "\n",
        "#To print the last item\n",
        "print(eat[-1])\n",
        "\n",
        "#If we want to add Wings in the food \n",
        "eat.append(\"Wings\")\n",
        "eat\n",
        "\n",
        "#If we want to add Chips in the 2nd position\n",
        "eat.insert(1,\"Chips\")\n",
        "eat\n",
        "\n",
        "#If we need to combine eat and drinks\n",
        "items = eat + drinks\n",
        "items\n",
        "\n",
        "print(\"Total number of items in the list is \",(len(items)))\n",
        "\n",
        "#Check if Pasta is in the list or not \n",
        "\"Pasta\" in items"
      ],
      "metadata": {
        "id": "H-VQsVtzUNQT"
      },
      "execution_count": null,
      "outputs": []
    },
    {
      "cell_type": "markdown",
      "source": [
        "###If Statement \n",
        "If statement can be defined as a statement that checks wheather the written statement is correct or not. \n",
        "\n",
        "If the statement is correct then it does the process else it goes to the another statement \n",
        "\n",
        "Syntax:\n",
        "\n",
        "        if statement:\n",
        "          process/output\n",
        "        else:\n",
        "          process/output\n",
        "\n",
        "####Operator\n",
        "* '<'   Less than\n",
        "* '>'   Greater than\n",
        "* '<='  Less than or equal to\n",
        "* '>='  Greater than or equal to\n",
        "* '!='  Not equal to \n",
        "* 'and' True if both statements are corrects\n",
        "* 'or'  True if any one statement is correct\n",
        "* 'not' For example: \n",
        "        not 4==4\n",
        "        False"
      ],
      "metadata": {
        "id": "I3Z_ikV0UXGw"
      }
    },
    {
      "cell_type": "code",
      "source": [
        "#Input a number from the user and identify wheather the number is even or odd\n",
        "num = int(input(\"Enter a Number : \"))\n",
        "if num%2 == 0 :\n",
        "  print(\"The number is even.\")\n",
        "else:\n",
        "  print(\"The number is odd.\")"
      ],
      "metadata": {
        "id": "FJ2OseLIUUBN"
      },
      "execution_count": null,
      "outputs": []
    },
    {
      "cell_type": "markdown",
      "source": [
        "###For Loop \n",
        "It is used to run the same code multiple times.\n",
        "\n",
        "Syntax:\n",
        "\n",
        "        if condition:\n",
        "          process/output\n",
        "        elif condition:\n",
        "          process/output\n",
        "        else:\n",
        "          process/output\n"
      ],
      "metadata": {
        "id": "gVCTrJhSUd27"
      }
    },
    {
      "cell_type": "code",
      "source": [
        "exp = [2400, 2600, 3000, 2400, 3500, 2000, 3624, 1252, 750, 1210, 940, 450]\n",
        "total = 0\n",
        "for i in range(len(exp)):\n",
        "    print(\"Month\",i+1,\"Expense\",exp[i])\n",
        "    total = total + exp[i]\n",
        "print(\"Total expense\",total)"
      ],
      "metadata": {
        "id": "fpTID-E4Ua0A"
      },
      "execution_count": null,
      "outputs": []
    },
    {
      "cell_type": "markdown",
      "source": [
        "###While loop \n",
        "It is similar to For Loop.\n",
        "\n",
        "Syntax:\n",
        "\n",
        "        while condition:\n",
        "          process/output\n",
        "          increment"
      ],
      "metadata": {
        "id": "NzE4w_O0UhuK"
      }
    },
    {
      "cell_type": "code",
      "source": [
        "i = 2\n",
        "while i<10 :\n",
        "    print(i)\n",
        "    i = i+1"
      ],
      "metadata": {
        "id": "O3X_S0vGUg9w"
      },
      "execution_count": null,
      "outputs": []
    },
    {
      "cell_type": "markdown",
      "source": [
        "###Functions\n",
        "Functions are a block of code that perform a specific task.\n",
        "\n",
        "####Defining a function \n",
        "Syntax:\n",
        "\n",
        "        def function_name(argument):\n",
        "          function body \n",
        "          return return_value\n",
        "####Calling a function \n",
        "Syntax:\n",
        "\n",
        "        function_name()\n",
        "####Name arguement\n",
        "Example:\n",
        "\n",
        "        function_name(a=1,b=2)\n",
        "\n",
        "\n"
      ],
      "metadata": {
        "id": "een_LMpoUnPy"
      }
    },
    {
      "cell_type": "code",
      "source": [
        "def total(exp):\n",
        "  total = 0\n",
        "  for item in exp:\n",
        "    total = total + item\n",
        "  return total\n",
        "\n",
        "list1 = [1200,3000,4500]\n",
        "list2 = [200,600,450]\n",
        "\n",
        "list1_total = total(list1)\n",
        "list2_total = total(list2)\n",
        "\n",
        "print (\"Total of List 1 : \", list1_total)\n",
        "print (\"Total of List 2 : \", list2_total)"
      ],
      "metadata": {
        "id": "KCbcLgQzUmHY"
      },
      "execution_count": null,
      "outputs": []
    },
    {
      "cell_type": "markdown",
      "source": [
        "###Dictionary\n",
        "Dictionary allows us to store key, value pairs.\n",
        "\n",
        "Also known as Maps, Hashtables, Associate Arrays.\n",
        "Example:\n",
        "\n",
        "        d={\"apple\":50, \"banana\": 12, \"orange\":25}\n",
        "\n",
        "You can access the value by \n",
        "\n",
        "        d[\"apple\"]\n",
        "        50\n",
        "\n",
        "####Adding new data in the dictionary \n",
        "\n",
        "        d[\"papaya\"]=20\n",
        "\n",
        "####Deleting the data in the dictionary\n",
        "\n",
        "        del d[\"papaya\"]"
      ],
      "metadata": {
        "id": "UZJHZUFnUvg4"
      }
    },
    {
      "cell_type": "code",
      "source": [
        "d = {\"apple\":50, \"banana\":12, \"orange\":25}\n",
        "for key in d:\n",
        "  print(\"Fruit : \",key,\"Quantity : \",d[key])\n",
        "\n",
        "for k,v in d.items():\n",
        "    print(\"Fruit : \",k,\"Quantity : \",v)"
      ],
      "metadata": {
        "id": "Jb3LtHQVUyas"
      },
      "execution_count": null,
      "outputs": []
    },
    {
      "cell_type": "markdown",
      "source": [
        "####Tuples\n",
        "Tuples are used to store multiple items in a single variable.\n",
        "\n",
        "A tuple is a collection which is ordered and unchangeable.\n",
        "\n",
        "Tuples are written with round brackets.\n",
        "\n",
        "Tuples are immutable whereas lists are mutable."
      ],
      "metadata": {
        "id": "14JqJWYVVFFQ"
      }
    },
    {
      "cell_type": "code",
      "source": [
        "#Store your address as a tuple\n",
        "#Tuples are immutable whereas lists are mutable.\n",
        "address = (\"Mahendrapool\",\"Pokhara\",\"Nepal\")\n",
        "print(address)\n"
      ],
      "metadata": {
        "id": "EnDYHMHgU1ZZ"
      },
      "execution_count": null,
      "outputs": []
    },
    {
      "cell_type": "markdown",
      "source": [
        "####Modules\n",
        "Modules is a way of using the codes written by others. M0odules can be used for free in python.\n",
        "\n",
        "###Importing a module.\n",
        "\n",
        "        import module_name\n",
        "\n",
        "###Finding functions in the module.\n",
        "\n",
        "        dir(module_name)\n",
        "###To write your own module \n",
        "\n",
        "        import your_file/.py\n",
        "\n",
        "###Import from different sub directory \n",
        "\n",
        "        import subdirectoryname.file name\n",
        "\n",
        "###Import from a different directory \n",
        "\n",
        "        sys.path.append(path)\n",
        "        import filename"
      ],
      "metadata": {
        "id": "CXLBvCJBVr7-"
      }
    },
    {
      "cell_type": "code",
      "source": [
        "import math\n",
        "print(math.sqrt(4))\n",
        "print(dir(math))\n",
        "\n",
        "import calendar\n",
        "cal = calendar.month(2016,1)\n",
        "print(cal)\n",
        "dir(calendar)\n",
        "\n",
        "#import your own module\n",
        "# import IfStatement \n",
        "# print(per)\n"
      ],
      "metadata": {
        "id": "soiK0fx_Vq08"
      },
      "execution_count": null,
      "outputs": []
    },
    {
      "cell_type": "markdown",
      "source": [
        "####JSON\n",
        "JSON : Java Script Object Notation\n",
        "\n",
        "It is a data exchange format similar to XML.\n",
        "\n",
        "Example:\n",
        "\n",
        "<u>JSON</u>\n",
        "\n",
        "    {\n",
        "      \"name\":\"Ram\"\n",
        "      \"address\":\"Pokhara,Nepal\"\n",
        "    }\n",
        "\n",
        "<u>XML</u>\n",
        "\n",
        "    <name> Ram </name>\n",
        "    <address> Pokhara,Nepal </address>\n",
        "\n",
        "* JSON is much more light weighted than XML\n",
        "\n"
      ],
      "metadata": {
        "id": "BVA1FYVDCAuK"
      }
    },
    {
      "cell_type": "code",
      "source": [
        "# #writing record as a json format\n",
        "# book = {}\n",
        "# book['Ram'] = {\n",
        "#     'Name' : 'Ram',\n",
        "#     'Address' : 'Pokhara, Nepal'\n",
        "# }\n",
        "# book['Hari'] = {\n",
        "#     'Name' : 'Hari',\n",
        "#     'Address' : 'Jumla, Nepal'\n",
        "# }\n",
        "\n",
        "# import json\n",
        "# s=json.dumps(book)\n",
        "# with open (\"/home/sansrita/Desktop/Python/address.txt\",\"w\") as f:\n",
        "#     f.write(s)\n",
        "\n",
        "# #printing the record from the .txt file\n",
        "# f=open(\"/home/sansrita/Desktop/Python/address.txt\",\"r\")  \n",
        "# s= f.read()\n",
        "# print(s)\n",
        "# print(type(s))\n",
        "# import json\n",
        "# l= json.loads(s)\n",
        "# print(l)\n",
        "# print(type(l))\n",
        "# print(l['Hari'])\n",
        "# print(l['Hari']['Address'])\n",
        "\n",
        "# #print all the record\n",
        "# for person in l:\n",
        "#     print(l[person])"
      ],
      "metadata": {
        "id": "466VLSnmB_tI"
      },
      "execution_count": null,
      "outputs": []
    },
    {
      "cell_type": "markdown",
      "source": [
        "####Reading/Writing Files\n",
        "\n",
        "* open() opens a file for reading or writing\n",
        "\n",
        "        open(\"file_name_and_path\" , \"file_open_mode\")\n",
        "\n",
        "###File open modes\n",
        "* w : overwrites in the file\n",
        "* a : appends the text into the file\n",
        "* r : reads from the file\n",
        "* r+ : opens file for both reading and writing\n",
        "* w+ : opens file for both reading and writing. If the file doesn't exist then a new file is created. If it exists then it will overwrite it.\n",
        "\n",
        "###Writing\n",
        "\n",
        "* f.write(\"text_to_write\") : writes in the file\n",
        "* f.close() : closes the file.\n",
        "\n",
        "###Reading\n",
        "* f.read() : Reads the file\n",
        "* f.close()"
      ],
      "metadata": {
        "id": "QR5uWOrIuT--"
      }
    },
    {
      "cell_type": "markdown",
      "source": [
        "####if __ name__ ==\"__ main__\"\n",
        "* __ name __ is a pre-defined variable in python which gets set to main. \n",
        "* The .py in which the if __ name__ ==\"__ main__\" is written is set to the main. \n",
        "* Can be compared with main function in C++.\n",
        "* If the code is run from another .py then the value of __ name __ is main.\n",
        "* But if it is run from the ,py then the value of __ name __ is the file itself.\n"
      ],
      "metadata": {
        "id": "FRZOVQjHyngv"
      }
    },
    {
      "cell_type": "markdown",
      "source": [
        "####Exception Handling\n",
        "Exceptions are errors detected at the time of program execution.\n",
        "\n",
        "Example:\n",
        "\n",
        "        x = input(\"Enter first number : \")\n",
        "        y = input(\"Enter second number : \")\n",
        "        try:                                    #exception handling\n",
        "            z = int(x)/int(y)\n",
        "        except Exception as e:\n",
        "            print(\"Exception occured: \",e)\n",
        "            z = None\n",
        "        print(\"Division is: \",z)\n",
        "\n",
        "In this example, we are setting a exception as e to find out which exception will occur. But if we already have an idea about which exception is going to occur we can set it as such.\n",
        "\n",
        "For example:\n",
        "\n",
        "In the above example, we can replace 'Exception' as 'ZeroDevisionError'.\n",
        "\n",
        "###Finding the type of exception\n",
        "\n",
        "        type(exception).__name__\n",
        "        "
      ],
      "metadata": {
        "id": "qSGP6QXaMoD9"
      }
    },
    {
      "cell_type": "code",
      "source": [
        "x = input(\"Enter first number : \")\n",
        "y = input(\"Enter second number : \")\n",
        "try:                                    #exception handling\n",
        "    z = int(x)/int(y)\n",
        "except Exception as e:                  \n",
        "    print(\"Exception occured: \",e)\n",
        "    print(\"Exception Type: \",type(e).__name__)    #finding exception name\n",
        "    z = None\n",
        "# except ZeroDivisionError as e:                  \n",
        "#     print(\"Zero Devision Exception occured\")\n",
        "#     z = None\n",
        "print(\"Division is: \",z)"
      ],
      "metadata": {
        "id": "pbnMir3JK2BD"
      },
      "execution_count": null,
      "outputs": []
    },
    {
      "cell_type": "markdown",
      "source": [
        "####Class and Objects\n",
        "\n",
        "###Class\n",
        "* The propertities and methods form a central entity called class.\n",
        "* And abstraction of the entities that consists of common set of properties and methods.\n",
        "\n",
        "###Objects\n",
        "* A specific instance of a class.\n",
        "\n"
      ],
      "metadata": {
        "id": "N4Dfy_vJTfJZ"
      }
    },
    {
      "cell_type": "code",
      "source": [
        "class Human:\n",
        "    def __init__(self, n, o):\n",
        "    #properties of class Human\n",
        "        self.name = n               \n",
        "        self.occupation = o \n",
        "    #Methods of class Human\n",
        "    def do_work(self):\n",
        "        if self.occupation == \"tennis player\":\n",
        "            print(self.name,\"plays tennis.\")\n",
        "        elif self.occupation == \"actor\":\n",
        "            print(self.name,\"acts on films.\")\n",
        "    def speaks(self):\n",
        "        print(self.name,\"says how are you?\")\n",
        "    \n",
        "tom = Human(\"Tom Cruise\",\"actor\")\n",
        "tom.do_work()\n",
        "tom.speaks()\n",
        "\n",
        "john = Human(\"John Isner\",\"tennis player\")\n",
        "john.do_work()\n",
        "john.speaks()"
      ],
      "metadata": {
        "id": "Kf-Occ6_k7Ec"
      },
      "execution_count": null,
      "outputs": []
    },
    {
      "cell_type": "markdown",
      "source": [
        "####Inheritance\n",
        "* Inheritance can be used for inheriting the properties of a class to its derived class.\n",
        "\n",
        "Syntax:\n",
        "    \n",
        "    class class_name:\n",
        "      #class_name body\n",
        "\n",
        "    class derived_class_name(class_name):\n",
        "      #deriverd_class_name body\n",
        "\n",
        "###Benifits of Inheritance \n",
        "* The codes of the class can be reused and modified in the derived class\n",
        "* Readability \n",
        "* Extensibility\n",
        "\n",
        "###Multiple Inhoeritance\n",
        "\n",
        "Syntax:\n",
        "    \n",
        "    class A:\n",
        "      #body of A\n",
        "    \n",
        "    class B:\n",
        "      #body of B\n",
        "\n",
        "    #derived class from A and B\n",
        "    class C(A,B):\n",
        "      #body of C "
      ],
      "metadata": {
        "id": "dfalbbiXk97M"
      }
    },
    {
      "cell_type": "markdown",
      "source": [
        "####Raise Exception\n",
        "\n",
        "Syntax:\n",
        "\n",
        "    try:\n",
        "      raise exception_name(\"exception type\")\n",
        "    except exception:\n",
        "      body\n",
        "\n",
        "###User defined Exception\n",
        "\n",
        "    class exception_name(exception):\n",
        "      body\n",
        "\n",
        "####Finally\n",
        "\n",
        "* The code in finally block will always execute no matter what."
      ],
      "metadata": {
        "id": "lzOIkMV6koT4"
      }
    },
    {
      "cell_type": "code",
      "source": [
        "def process_file():\n",
        "    try:\n",
        "        f = (\"/home/sansrita/Desktop/Python/text.txt\")\n",
        "        x = 1/0\n",
        "    except FileNotFoundError  as e:\n",
        "        print(\"Inside Except\")\n",
        "    #code in finally block will excecute no matter what.\n",
        "    finally:\n",
        "        print(\"cleaning up file\")\n",
        "        f.close()\n",
        "process_file()"
      ],
      "metadata": {
        "id": "NeknOg6_k8g8"
      },
      "execution_count": null,
      "outputs": []
    },
    {
      "cell_type": "markdown",
      "source": [
        "####Iterators\n",
        "\n",
        "    a= [\"hey\",\"how\",\"are\",\"you\"]\n",
        "    for i in a:\n",
        "      print (i)\n",
        "\n",
        "* While we're using for loop, the code uses the iter method from the list and the next method is used to print the data from the list.\n",
        "\n",
        "Syntax for iter and next:\n",
        "\n",
        "      >>next(iter(a))\n",
        "        hey\n",
        "* We have a reversed method that takes the data from the last and them to first while calling the next method.\n",
        "\n",
        "    \n",
        "      >>next(reversed(a))\n",
        "        you"
      ],
      "metadata": {
        "id": "Xg6BnCpSfqSZ"
      }
    },
    {
      "cell_type": "code",
      "source": [
        "class name():\n",
        "    def __init__(self):\n",
        "        self.name = [\"Ram\",\"Shyam\",\"Sita\",\"Gita\"]\n",
        "        self.index = -1\n",
        "    \n",
        "    def __iter__(self):\n",
        "        return self\n",
        "    \n",
        "    def __next__(self):\n",
        "        self.index += 1\n",
        "        if self.index == len(self.name):\n",
        "            raise StopIteration\n",
        "        \n",
        "        return self.name[self.index]\n",
        "\n",
        "n = name()\n",
        "itr = iter(n)\n",
        "print(next(itr))\n",
        "print(next(itr))\n",
        "print(next(itr))\n",
        "print(next(itr))\n",
        "print(next(itr))\n"
      ],
      "metadata": {
        "id": "aGTrrS8DuWjf"
      },
      "execution_count": null,
      "outputs": []
    },
    {
      "cell_type": "markdown",
      "source": [
        "####Generators\n",
        "* Generators is simply a way of creating iterators. \n",
        "* Generators can be defined by using yeild statement in the function instead of return.\n",
        "* yeild statement is similar to return statement but not same.\n",
        "\n",
        "###Benefits of using Generators over class based Iterators\n",
        "* Don't need to define iter() and next() methods.\n",
        "* Don't need to raise StopIteration exception."
      ],
      "metadata": {
        "id": "oHPjC19M3Qux"
      }
    },
    {
      "cell_type": "code",
      "source": [
        "from re import A\n",
        "\n",
        "\n",
        "def fib():\n",
        "    a,b = 0,1\n",
        "    while True:\n",
        "        yield a\n",
        "        a,b = b, a+b\n",
        "    \n",
        "for f in fib():\n",
        "    if f>100:\n",
        "        break\n",
        "    print(f)"
      ],
      "metadata": {
        "id": "sNtb-eyB0v2i"
      },
      "execution_count": null,
      "outputs": []
    },
    {
      "cell_type": "markdown",
      "source": [
        "####List Comprehension\n",
        "* List comprehension provides a way to transform one list to another.\n",
        "\n",
        "      \n",
        "      "
      ],
      "metadata": {
        "id": "jD7oTHMlB4Vj"
      }
    },
    {
      "cell_type": "code",
      "source": [
        "#making a list of even numbers from the numbers list\n",
        "numbers = [1,2,3,4,5,6,7]\n",
        "even = [i for i in numbers if i%2 == 0]\n",
        "print(even)"
      ],
      "metadata": {
        "id": "SgKe3c2AC6B5"
      },
      "execution_count": null,
      "outputs": []
    },
    {
      "cell_type": "markdown",
      "source": [
        "####Set Comprehension\n",
        "* Set is an unordered list of unique items.\n",
        "\n",
        "###Defining a set \n",
        "    s = set([list])\n",
        "* Removes repeated numbers from the set.\n",
        "\n",
        "\n"
      ],
      "metadata": {
        "id": "1_5pTEgBDLsj"
      }
    },
    {
      "cell_type": "code",
      "source": [
        "#making a list of even numbers from the numbers list\n",
        "s = set([1,2,3,4,5,6,7])\n",
        "even = {i for i in s if i%2 == 0}\n",
        "print(even)"
      ],
      "metadata": {
        "id": "LP04n_kfD4Hk"
      },
      "execution_count": null,
      "outputs": []
    },
    {
      "cell_type": "markdown",
      "source": [
        "####Dict Comprehension\n",
        "* The zip() is used to combine two lists into a dictionary.\n"
      ],
      "metadata": {
        "id": "87HW3kmrcAxn"
      }
    },
    {
      "cell_type": "code",
      "source": [
        "cities = [\"Pokhara\",\"Delhi\",\"New York\"]\n",
        "countries = [\"Nepal\",\"India\",\"USA\"]\n",
        "z = zip(cities,countries)\n",
        "for a in z:\n",
        "  print (a)\n",
        "\n",
        "d = {cities:countries for cities,countries in zip(cities,countries)}\n",
        "print (d)"
      ],
      "metadata": {
        "id": "7VMuuMjvcQVD",
        "colab": {
          "base_uri": "https://localhost:8080/"
        },
        "outputId": "f99812b9-9294-45cb-b4ec-d1104d21e9d9"
      },
      "execution_count": null,
      "outputs": [
        {
          "output_type": "stream",
          "name": "stdout",
          "text": [
            "('Pokhara', 'Nepal')\n",
            "('Delhi', 'India')\n",
            "('New York', 'USA')\n",
            "{'Pokhara': 'Nepal', 'Delhi': 'India', 'New York': 'USA'}\n"
          ]
        }
      ]
    },
    {
      "cell_type": "markdown",
      "source": [
        "####Sets \n",
        "* Sets is an unordered collection of unique elements.\n",
        "Syntax:\n",
        "    \n",
        "      set_name = {items}\n",
        "      \n",
        "      a = set()\n",
        "      a.add(item_name)\n",
        "\n",
        "* Empty set is considered as dictionary.\n",
        "\n",
        "      set_name = {} #is a dictionary\n",
        "\n",
        "* Set removes every repeated numbers fromm the dictionary.\n",
        "\n",
        "      uniqueset = set (list)\n",
        "\n",
        "####Frozen Sets \n",
        "* Frozen sets are the sets where the contents cannot be changed.\n",
        "* Frozen sets and sets are same but frozen sets doesn't allow to add new elements to the set.\n",
        " \n",
        "###Initializing frozen set \n",
        "\n",
        "    fs = frozenset(list)\n",
        "\n",
        "\n",
        "* Frozen sets and sets support iterators.\n"
      ],
      "metadata": {
        "id": "b65nkkQJiL8f"
      }
    },
    {
      "cell_type": "code",
      "source": [
        "x = {\"a\",\"b\",\"c\"}\n",
        "print(\"a\" in x)\n",
        "print(\"d\" in x)\n",
        "for i in x:\n",
        "  print(x)\n",
        "y = {\"a\",\"g\",\"h\"}\n",
        "z= {\"a\",\"g\"}\n",
        "\n",
        "#for union of x and y \n",
        "print (x|y)\n",
        "\n",
        "#for intersection of x and y \n",
        "print(x&y)\n",
        "\n",
        "#for subtraction of x and y \n",
        "print(x-y)\n",
        "\n",
        "#for subset (if x is subset of y)\n",
        "print(x<y)\n",
        "\n",
        "#if z is subset of y \n",
        "print(z<y)"
      ],
      "metadata": {
        "colab": {
          "base_uri": "https://localhost:8080/"
        },
        "id": "pErjYdtXmuIx",
        "outputId": "4ef26d61-8074-45f6-f6cc-18c34d753bff"
      },
      "execution_count": null,
      "outputs": [
        {
          "output_type": "stream",
          "name": "stdout",
          "text": [
            "True\n",
            "False\n",
            "{'a', 'c', 'b'}\n",
            "{'a', 'c', 'b'}\n",
            "{'a', 'c', 'b'}\n",
            "{'b', 'h', 'g', 'c', 'a'}\n",
            "{'a'}\n",
            "{'c', 'b'}\n",
            "False\n",
            "True\n"
          ]
        }
      ]
    },
    {
      "cell_type": "markdown",
      "source": [
        "####Command line argument processing using argparse\n",
        "* There are two types of arguments that argparse module supports:\n",
        "  * Positional \n",
        "  * Optional\n",
        "\n",
        "* Optional argument will work even if all the arguments are not passed.\n"
      ],
      "metadata": {
        "id": "XSXJZrQw06QW"
      }
    },
    {
      "cell_type": "code",
      "source": [
        "#Program to input two numbers and a operation to be used and return the result of operation based on inputs\n",
        "#Posional argument \n",
        "import argparse\n",
        "if __name__== \"__main__\":\n",
        "    parser = argparse.ArgumentParser()\n",
        "    parser.add_argument(\"number1\", help =\"first number\")\n",
        "    parser.add_argument(\"number2\", help =\"second number\")\n",
        "    parser.add_argument(\"operation\", help =\"operation\")\n",
        "\n",
        "    args = parser.parse_args()\n",
        "    print(args.number1)\n",
        "    print(args.number2)\n",
        "    print(args.operation)\n",
        "\n",
        "    n1 = int(args.number1)\n",
        "    n2 = int(args.number2)\n",
        "    result = None\n",
        "    \n",
        "    if args.operation == \"add\":\n",
        "        result = n1+n2\n",
        "    elif args.operation == \"subtract\":\n",
        "        result = n1-n2\n",
        "    elif args.operation == \"multiply\":\n",
        "        result = n1*n2\n",
        "\n",
        "    print(result)"
      ],
      "metadata": {
        "id": "uPTS3NLcc6Ba"
      },
      "execution_count": null,
      "outputs": []
    },
    {
      "cell_type": "code",
      "source": [
        "#for optional argument add --to arguments  \n",
        "import argparse\n",
        "if __name__== \"__main__\":\n",
        "    parser = argparse.ArgumentParser()\n",
        "    parser.add_argument(\"--number1\", help =\"first number\")\n",
        "    parser.add_argument(\"--number2\", help =\"second number\")\n",
        "    parser.add_argument(\"--operation\", help =\"operation\", choices = [\"add\",\"subtract\",\"multiply\"])\n",
        "\n",
        "    args = parser.parse_args()\n",
        "    print(args.number1)\n",
        "    print(args.number2)\n",
        "    print(args.operation)\n",
        "\n",
        "    n1 = int(args.number1)\n",
        "    n2 = int(args.number2)\n",
        "    result = None\n",
        "    \n",
        "    if args.operation == \"add\":\n",
        "        result = n1+n2\n",
        "    elif args.operation == \"subtract\":\n",
        "        result = n1-n2\n",
        "    elif args.operation == \"multiply\":\n",
        "        result = n1*n2\n",
        "\n",
        "    print(\"Result : \", result)"
      ],
      "metadata": {
        "id": "gjWFwO-5c2KA"
      },
      "execution_count": null,
      "outputs": []
    },
    {
      "cell_type": "markdown",
      "source": [
        "####Decorators\n",
        "* Decorators allows us to wrap a function into another function.\n"
      ],
      "metadata": {
        "id": "BeL2HVjssGB9"
      }
    },
    {
      "cell_type": "code",
      "source": [
        "#To find time taken in a function without decorators\n",
        "import time \n",
        "\n",
        "def calc_square(numbers):\n",
        "  start = time.time()\n",
        "  result = []\n",
        "  for number in numbers:\n",
        "    result.append(number*number) \n",
        "    end = time.time()\n",
        "    print (\"calc_square took \" +str((end-start)*1000) + \"mil sec\")\n",
        "    return result\n",
        "\n",
        "def calc_cube(numbers):\n",
        "  start = time.time()\n",
        "  result = []\n",
        "  for number in numbers:\n",
        "    result.append(number*number*number) \n",
        "    end = time.time()\n",
        "    print (\"calc_cube took \" +str((end-start)*1000) + \"mil sec\")\n",
        "    return result\n",
        "    \n",
        "array = range(1,100000)\n",
        "out_square = calc_square(array)\n",
        "out_cube = calc_cube(array)"
      ],
      "metadata": {
        "colab": {
          "base_uri": "https://localhost:8080/"
        },
        "id": "eYoP9iQrt4yL",
        "outputId": "e09a67ad-9d02-4038-9c34-7e178f944e60"
      },
      "execution_count": null,
      "outputs": [
        {
          "output_type": "stream",
          "name": "stdout",
          "text": [
            "calc_square took 0.0011920928955078125mil sec\n",
            "calc_cube took 0.00095367431640625mil sec\n"
          ]
        }
      ]
    },
    {
      "cell_type": "markdown",
      "source": [
        "* Functions are first class objects in python. You can use functions as any other variable, you can pass them as argument to another function or even return them as a return value."
      ],
      "metadata": {
        "id": "gLTqKML0w8UF"
      }
    },
    {
      "cell_type": "code",
      "source": [
        "#To find time taken in a function using decorators\n",
        "import time \n",
        "\n",
        "def time_it(func):\n",
        "  def wrapper(*args, **kwargs):\n",
        "    start =time.time()\n",
        "    result = func(*args,*kwargs)\n",
        "    end = time.time()\n",
        "    print(func.__name__ + \" took \"+str((end-start)*1000) +\"mili seconds\")\n",
        "  return wrapper\n",
        "\n",
        "@time_it\n",
        "def calc_square(numbers):\n",
        "  result = []\n",
        "  for number in numbers:\n",
        "    result.append(number*number) \n",
        "    return result\n",
        "\n",
        "@time_it\n",
        "def calc_cube(numbers):\n",
        "  result = []\n",
        "  for number in numbers:\n",
        "    result.append(number*number*number)\n",
        "    return result\n",
        "\n",
        "array = range(1,100000)\n",
        "out_square = calc_square(array)\n",
        "out_cube = calc_cube(array)"
      ],
      "metadata": {
        "colab": {
          "base_uri": "https://localhost:8080/"
        },
        "id": "FCHtlZfnwfsq",
        "outputId": "0b600de7-0812-4329-f34c-d9b9c6caec10"
      },
      "execution_count": null,
      "outputs": [
        {
          "output_type": "stream",
          "name": "stdout",
          "text": [
            "calc_square took 0.003337860107421875mili seconds\n",
            "calc_cube took 0.0035762786865234375mili seconds\n"
          ]
        }
      ]
    },
    {
      "cell_type": "markdown",
      "source": [
        "####Multithreading\n",
        "* Doing multiple tasks at the same time in a program is called multithreading in the program.\n",
        "\n",
        "Example:"
      ],
      "metadata": {
        "id": "IaQtigqg1NZY"
      }
    },
    {
      "cell_type": "code",
      "source": [
        "#For a given list of numbers print square and cube of every numbers(without using multithreading)\n",
        "import time\n",
        "\n",
        "def calc_square(numbers):\n",
        "  for n in numbers:\n",
        "    time.sleep(0.2)\n",
        "    print(\"Square : \",n*n)\n",
        "    \n",
        "def calc_cube(numbers):\n",
        "  for n in numbers:\n",
        "    time.sleep(0.2)\n",
        "    print(\"Cube : \",n*n*n)\n",
        "\n",
        "arr = [2,3,8,9]\n",
        "\n",
        "t = time.time()\n",
        "calc_square(arr)\n",
        "calc_cube(arr)\n",
        "\n",
        "print(\"Time taken : \",time.time()-t)"
      ],
      "metadata": {
        "colab": {
          "base_uri": "https://localhost:8080/"
        },
        "id": "GHXtCVGO6raJ",
        "outputId": "a789b63e-e036-4945-a32c-49b75f4fd76e"
      },
      "execution_count": null,
      "outputs": [
        {
          "output_type": "stream",
          "name": "stdout",
          "text": [
            "Square :  4\n",
            "Square :  9\n",
            "Square :  64\n",
            "Square :  81\n",
            "Cube :  8\n",
            "Cube :  27\n",
            "Cube :  512\n",
            "Cube :  729\n",
            "Time taken :  1.6067488193511963\n"
          ]
        }
      ]
    },
    {
      "cell_type": "code",
      "source": [
        "#For a given list of numbers print square and cube of every numbers(using multithreading)\n",
        "import time\n",
        "import threading\n",
        "\n",
        "def calc_square(numbers):\n",
        "  for n in numbers:\n",
        "    time.sleep(0.2)\n",
        "    print(\"Square : \",n*n)\n",
        "    \n",
        "def calc_cube(numbers):\n",
        "  for n in numbers:\n",
        "   time.sleep(0.2)\n",
        "  print(\"Cube : \",n*n*n)\n",
        "\n",
        "arr = [2,3,8,9]\n",
        "\n",
        "t = time.time()\n",
        "\n",
        "t1 = threading.Thread(target=calc_square,args=(arr,))\n",
        "t2 = threading.Thread(target=calc_cube,args=(arr,))\n",
        "\n",
        "t1.start()\n",
        "t2.start()\n",
        "\n",
        "t1.join()\n",
        "t2.join()\n",
        "\n",
        "print(\"Time taken : \",time.time()-t)"
      ],
      "metadata": {
        "colab": {
          "base_uri": "https://localhost:8080/"
        },
        "id": "o4Gzd7Zq2AUv",
        "outputId": "56b98d5b-6a0a-4f47-a37a-21947c25c5d5"
      },
      "execution_count": null,
      "outputs": [
        {
          "output_type": "stream",
          "name": "stdout",
          "text": [
            "Square :  4\n",
            "Square :  9\n",
            "Square :  64\n",
            "Square :  81\n",
            "Cube :  729\n",
            "Time taken :  0.8072023391723633\n"
          ]
        }
      ]
    },
    {
      "cell_type": "markdown",
      "source": [
        "####Multiprocessing\n",
        "* In multi[rocessing, the result is only valid within the function but not outside."
      ],
      "metadata": {
        "id": "BMA3hjHX9F0L"
      }
    },
    {
      "cell_type": "code",
      "source": [
        "import multiprocessing\n",
        "\n",
        "square_result = []\n",
        "\n",
        "def calc_square(numbers):\n",
        "  global square_result\n",
        "  for n in numbers:\n",
        "    print(\"square: \",str(n*n))\n",
        "    square_result.append(n*n)\n",
        "  print(\"Within the process : Result : \" + str(square_result))\n",
        "\n",
        "def calc_cube(numbers):\n",
        "  for n in numbers:\n",
        "    print(\"cube: \",str(n*n*n))\n",
        "      \n",
        "if __name__ == \"__main__\":\n",
        "  arr = [2,3,8,9]\n",
        "  p1 = multiprocessing.Process(target = calc_square , args = (arr,))\n",
        "  p2 = multiprocessing.Process(target = calc_cube , args = (arr,))\n",
        "  \n",
        "  p1.start()\n",
        "  p2.start()\n",
        "\n",
        "  p1.join()\n",
        "  p2.join()\n",
        "\n",
        "print(\"Outside the process : Result : \" + str(square_result))"
      ],
      "metadata": {
        "colab": {
          "base_uri": "https://localhost:8080/"
        },
        "id": "aSM-NrC5_JWM",
        "outputId": "854c9d9a-86a0-4ff7-bb16-3edc85820b8d"
      },
      "execution_count": null,
      "outputs": [
        {
          "output_type": "stream",
          "name": "stdout",
          "text": [
            "square:  4\n",
            "square:  9\n",
            "square:  64\n",
            "square:  81\n",
            "Within the process : Result : [4, 9, 64, 81]\n",
            "cube:  8\n",
            "cube:  27\n",
            "cube:  512\n",
            "cube:  729\n",
            "Outside the process : Result : []\n"
          ]
        }
      ]
    },
    {
      "cell_type": "markdown",
      "source": [
        "* Sharing of data between processes using array"
      ],
      "metadata": {
        "id": "fnV0dH80DTRA"
      }
    },
    {
      "cell_type": "code",
      "source": [
        "import multiprocessing\n",
        "import numbers\n",
        "\n",
        "def calc_square(numbers,result):\n",
        "    for idx, n in enumerate(numbers):\n",
        "        result[idx] = n*n\n",
        "       \n",
        "if __name__ == \"__main__\":\n",
        "  numbers = [2,3,8,9]\n",
        "  result = multiprocessing.Array('i',4)\n",
        "  p1 = multiprocessing.Process(target = calc_square , args = (numbers, result))\n",
        "\n",
        "  p1.start()\n",
        "  p1.join()\n",
        "  \n",
        "  print(result[:])"
      ],
      "metadata": {
        "id": "C7rQAHWfPsZr"
      },
      "execution_count": null,
      "outputs": []
    },
    {
      "cell_type": "markdown",
      "source": [
        "* Sharing of data between processes using multiprocessing queue"
      ],
      "metadata": {
        "id": "Bnph-x0iPkjt"
      }
    },
    {
      "cell_type": "code",
      "source": [
        "import multiprocessing\n",
        "\n",
        "def calc_square(numbers,q):\n",
        "    for n in numbers:\n",
        "        q.put(n*n)\n",
        "\n",
        "if __name__ == \"__main__\":\n",
        "    numbers = [2,3,5]\n",
        "    q = multiprocessing.Queue()\n",
        "    p = multiprocessing.Process(target=calc_square, args=(numbers,q))\n",
        "\n",
        "    p.start()\n",
        "    p.join()\n",
        "\n",
        "    while q.empty() is False:\n",
        "        print(q.get())"
      ],
      "metadata": {
        "id": "lZH9lYagQDye"
      },
      "execution_count": null,
      "outputs": []
    },
    {
      "cell_type": "markdown",
      "source": [
        "In the above program,\n",
        "* q.put() : puts the data in the queue.\n",
        "* q.empty() : checks if the queue is empty or not.\n",
        "* q.get() : gets the data from the queue.\n",
        "\n",
        "Queue is the type of data structure where the first in gets first out."
      ],
      "metadata": {
        "id": "aAG4LW6SlSJ9"
      }
    },
    {
      "cell_type": "markdown",
      "source": [
        "**Difference between multiprocessing queue and queue module.**\n",
        "* Multiprocessing Queue\n",
        "  * Syntax:\n",
        "        import multiprocessing \n",
        "        q = multiprocessing.Queue()\n",
        "  * Lives in shared memory \n",
        "  * Used to share data between processes.\n",
        "\n",
        "* Queue Module\n",
        "  * Syntax:\n",
        "        import queue \n",
        "        q = queue.Queue()\n",
        "  * Lives in in-process memory.\n",
        "  * Used to share data between threads.\n",
        "  "
      ],
      "metadata": {
        "id": "YLurKxrGmX1N"
      }
    },
    {
      "cell_type": "markdown",
      "source": [
        "**Lock**\n",
        "* Why do we need lock?\n",
        "\n",
        "  When two Processes or Threads has the same shared resource, then to maintain the privacy lock is needed.\n",
        " \n",
        "* What will happen if we don't use lock?\n",
        "\n",
        "  The code might give wrong outputs.\n",
        "\n"
      ],
      "metadata": {
        "id": "YGXt6iRspRC2"
      }
    },
    {
      "cell_type": "code",
      "source": [
        "import time\n",
        "import multiprocessing \n",
        "\n",
        "def deposit(balance, lock):\n",
        "  for i in range(100):\n",
        "    time.sleep(0.1)\n",
        "    lock.acquire()\n",
        "    balance.value = balance.value + 1\n",
        "    lock.release()\n",
        "\n",
        "def withdraw(balance, lock):\n",
        "  for i in range(100):\n",
        "    time.sleep(0.1)\n",
        "    lock.acquire()\n",
        "    balance.value = balance.value - 1\n",
        "    lock.release()\n",
        "\n",
        "if __name__ == \"__main__\":\n",
        "  balance = multiprocessing.Value(\"i\", 200)\n",
        "  lock = multiprocessing.Lock()\n",
        "  d = multiprocessing.Process(target = deposit, args = (balance,lock))\n",
        "  w = multiprocessing.Process(target = withdraw, args = (balance,lock))\n",
        "  d.start()\n",
        "  w.start()\n",
        "  d.join()\n",
        "  w.join()\n",
        "  print(balance.value)"
      ],
      "metadata": {
        "colab": {
          "base_uri": "https://localhost:8080/"
        },
        "id": "tOak_Nm9mW9g",
        "outputId": "48d59d44-a67e-4096-d285-f35b072fa0b9"
      },
      "execution_count": null,
      "outputs": [
        {
          "output_type": "stream",
          "name": "stdout",
          "text": [
            "200\n"
          ]
        }
      ]
    },
    {
      "cell_type": "markdown",
      "source": [
        "####Multiprocessing Pool\n",
        "* It is simply dividing the process in the code to different parts for different processing units and again later combining them into the same."
      ],
      "metadata": {
        "id": "gYCJeFoOn5u1"
      }
    },
    {
      "cell_type": "code",
      "source": [
        "from multiprocessing import Pool\n",
        "\n",
        "def f(n):\n",
        "    return n*n\n",
        "\n",
        "if __name__ == \"__main__\":\n",
        "    array = [1,2,3,4,5]\n",
        "    p = Pool()\n",
        "    result = p.map(f,array)\n",
        "    print(result)"
      ],
      "metadata": {
        "id": "aaIEb462zspJ"
      },
      "execution_count": null,
      "outputs": []
    },
    {
      "cell_type": "markdown",
      "source": [
        "* p.map(f,array) : divides the process of the function f for array into different unitx.\n",
        "* Using pool will speed up the time of execution as it divides the process.\n",
        "* Pool(processes= n) : creates n processs. "
      ],
      "metadata": {
        "id": "WcLbpva20yUf"
      }
    },
    {
      "cell_type": "markdown",
      "source": [
        "####Python Testing Units \n",
        "* Python testing frameworks:\n",
        "  * unittest\n",
        "  * nose\n",
        "  * pytest\n"
      ],
      "metadata": {
        "id": "v4oIggusbC4d"
      }
    },
    {
      "cell_type": "markdown",
      "source": [
        "###Steps for testing a code in pytest\n",
        "* Make a python file with prifix test and import the file you want to test.\n",
        "* Keep prifix \"test\" in every module.\n",
        "* To set the answer \"assert\" is used.\n",
        "* Run the code in terminal.\n",
        "  * python3 -m pytest test_filename.py\n",
        "  * py.test test_filename.py\n",
        "  * py.test -v test_filename.py : for detailed output"
      ],
      "metadata": {
        "id": "0KMbhgAlBhGx"
      }
    },
    {
      "cell_type": "markdown",
      "source": [
        "####Skip Testing\n",
        "* A decorator of the pytest module is used to skip the testing of a certain portion of the code.\n",
        "\n",
        "      import pytest\n",
        "      @pytest.mark.skip(reason = \"...\")\n",
        "\n",
        "  * If there is some condition,\n",
        "\n",
        "        @pytest.mark.skipif(condition,reason = \"...\")\n",
        "  \n",
        "  * To run the test with certain word,\n",
        "  \n",
        "        #run the in terminal \n",
        "        pytest -k word\n",
        "\n",
        "####Custom Markers\n",
        "* Decorator of pytest module is used to mark the certain portion of code as some name.\n",
        "\n",
        "      import pytest\n",
        "      @pytest.mark.name\n",
        "\n",
        "  * To run the code with certain names only,\n",
        "\n",
        "        #run in the terminal\n",
        "        pytest -m name\n",
        "\n",
        "  * To run the code with name other than the given,\n",
        "\n",
        "        #run in the terminal\n",
        "        pytest -m \"not name\""
      ],
      "metadata": {
        "id": "EBFJqWlfHRJ4"
      }
    },
    {
      "cell_type": "markdown",
      "source": [
        "####numpy \n",
        "* numpy's most useful feature is n dimentional array objects \n",
        "\n",
        "###Benifits of numpy array over python list \n",
        "* Less Memory \n",
        "* Fast \n",
        "* Convinient\n",
        "\n",
        "###Basic array operations\n",
        "      import numpy as np\n",
        "* For one dimentional array,\n",
        "      b = np.array[(1,2)]\n",
        "* For two dimentional array,\n",
        "      a = np.array[(1,2),(2,3)]\n",
        "* Find dimention of the array,\n",
        "      a.ndim\n",
        "      >> 2 \n",
        "* Find byte size of the array,\n",
        "      a.itemsize\n",
        "      >> 4\n",
        "* Find current datatype of the array,\n",
        "      a.dtype\n",
        "* Change datatype of the array,\n",
        "      a = np.array[(1,2),(2,3), dtype = np.float64]\n",
        "    * can be changed to complex number as well\n",
        "* Finding total number of elements,\n",
        "      a.size\n",
        "      >>4\n",
        "* Finding the order of the array\n",
        "      a.shape\n",
        "      >> (2,2)\n",
        "* For elements with all 0s or 1s ,\n",
        "      np.zeros((2,2))\n",
        "      np.ones((2,2))\n",
        "* Array of range of numbers,\n",
        "      np.arange(1,5)\n",
        "      >>array[(1,2,3,4)]\n",
        "      np.arange(1,5,2)\n",
        "      >>array[(1,3)]\n",
        "* To make a range of array linearly spaced,\n",
        "      np.linspace(1,4,4)\n",
        "      >>array([1., 2., 3., 4.])\n",
        "* To reshape an array,\n",
        "      a.reshape(rows,columns)\n",
        "* To make n-dimentional array into one dimentional array,\n",
        "      a.ravel()\n",
        "    * will not alter your original array\n",
        "* Max and min values of the array,\n",
        "      a.max()\n",
        "      a.min()\n",
        "* Sum of the array,\n",
        "  * All the elements,\n",
        "        a.sum()\n",
        "  * Sum of the elements in each column,\n",
        "        a.sum(axis = 0)\n",
        "  * Sum of the elements in each row,\n",
        "        a.sum(axis = 1)\n",
        "* Square root of the array,\n",
        "      np.sqrt(a)\n",
        "* Standard Deviation of the array,\n",
        "      np.std(a)\n",
        "\n",
        "\n",
        "###Indexing and Slicing\n",
        "      "
      ],
      "metadata": {
        "id": "OxDftGU6ML2R"
      }
    },
    {
      "cell_type": "code",
      "source": [
        "import numpy as np \n",
        "a = np.array([(1,2,3),\n",
        "             (4,5,6),\n",
        "             (7,8,9)])\n",
        "\n",
        "#prints the first two elements from the first row\n",
        "print(a[0,0:2])\n",
        "\n",
        "#prints all the elements from the first row\n",
        "print(a[0,0:3])\n",
        "print(a[0,:])\n",
        "\n",
        "#prints the last two elements from the first row\n",
        "print(a[0,1:3])\n",
        "\n",
        "#prints all the elements from the first column\n",
        "print(a[0:3,0])\n",
        "print(a[:,0])\n",
        "\n",
        "#prints the last row\n",
        "print(a[2,:])\n",
        "print(a[-1])"
      ],
      "metadata": {
        "id": "-b5E-y315pAT",
        "colab": {
          "base_uri": "https://localhost:8080/"
        },
        "outputId": "c498755c-c0cb-49f7-cc35-530992e6112c"
      },
      "execution_count": 10,
      "outputs": [
        {
          "output_type": "stream",
          "name": "stdout",
          "text": [
            "[1 2]\n",
            "[1 2 3]\n",
            "[1 2 3]\n",
            "[2 3]\n",
            "[1 4 7]\n",
            "[1 4 7]\n",
            "[7 8 9]\n",
            "[7 8 9]\n"
          ]
        }
      ]
    },
    {
      "cell_type": "markdown",
      "source": [
        "###Iterate through arrays\n"
      ],
      "metadata": {
        "id": "TBVD5K5fSiVi"
      }
    },
    {
      "cell_type": "code",
      "source": [
        "import numpy as np \n",
        "a = np.array([(1,2,3),\n",
        "             (4,5,6),\n",
        "             (7,8,9)])\n",
        "\n",
        "#prints the rows in the array \n",
        "for rows in a:\n",
        "  print(rows) \n",
        "\n",
        "#makes the array one dimensional and iterates through each cell\n",
        "for cell in a.flat:\n",
        "  print(cell)\n",
        "\n"
      ],
      "metadata": {
        "colab": {
          "base_uri": "https://localhost:8080/"
        },
        "id": "2oyAjXkJSoD3",
        "outputId": "eb098745-7a42-4663-a44d-44cd64b06f39"
      },
      "execution_count": 12,
      "outputs": [
        {
          "output_type": "stream",
          "name": "stdout",
          "text": [
            "[1 2 3]\n",
            "[4 5 6]\n",
            "[7 8 9]\n",
            "1\n",
            "2\n",
            "3\n",
            "4\n",
            "5\n",
            "6\n",
            "7\n",
            "8\n",
            "9\n"
          ]
        }
      ]
    },
    {
      "cell_type": "markdown",
      "source": [
        "###Sticking two arrays together"
      ],
      "metadata": {
        "id": "Fe3ppM5qTVk3"
      }
    },
    {
      "cell_type": "code",
      "source": [
        "import numpy as np\n",
        "a = np.arange(6).reshape(3,2)\n",
        "b = np.arange(6,12).reshape(3,2)\n",
        "\n",
        "#stacks the two arrays vertically\n",
        "print(np.vstack((a,b)),\"\\n\")\n",
        "\n",
        "#stacks the two arrays horizontally\n",
        "print(np.hstack((a,b)),\"\\n\")\n",
        "\n",
        "c = np.arange(30).reshape(2,15)\n",
        "\n",
        "#splits the array horizontally \n",
        "result = np.hsplit(c,3)\n",
        "print(result[0],\"\\n\")\n",
        "print(result[1],\"\\n\")\n",
        "print(result[2],\"\\n\")\n",
        "\n",
        "#To spit the array vertically \n",
        "result = np.vsplit(c,2)\n",
        "print(result[0],\"\\n\")\n",
        "print(result[1],\"\\n\")"
      ],
      "metadata": {
        "colab": {
          "base_uri": "https://localhost:8080/"
        },
        "id": "6J2XfMPVShPa",
        "outputId": "e0df075b-43f4-4d11-9b2e-3e03614c64ef"
      },
      "execution_count": 19,
      "outputs": [
        {
          "output_type": "stream",
          "name": "stdout",
          "text": [
            "[[ 0  1]\n",
            " [ 2  3]\n",
            " [ 4  5]\n",
            " [ 6  7]\n",
            " [ 8  9]\n",
            " [10 11]] \n",
            "\n",
            "[[ 0  1  6  7]\n",
            " [ 2  3  8  9]\n",
            " [ 4  5 10 11]] \n",
            "\n",
            "[[ 0  1  2  3  4]\n",
            " [15 16 17 18 19]] \n",
            "\n",
            "[[ 5  6  7  8  9]\n",
            " [20 21 22 23 24]] \n",
            "\n",
            "[[10 11 12 13 14]\n",
            " [25 26 27 28 29]] \n",
            "\n",
            "[[ 0  1  2  3  4  5  6  7  8  9 10 11 12 13 14]] \n",
            "\n",
            "[[15 16 17 18 19 20 21 22 23 24 25 26 27 28 29]] \n",
            "\n"
          ]
        }
      ]
    },
    {
      "cell_type": "markdown",
      "source": [
        "###Indexing with boolean array"
      ],
      "metadata": {
        "id": "vOz0F5G8Veev"
      }
    },
    {
      "cell_type": "code",
      "source": [
        "import numpy as np \n",
        "a = np.arange(10).reshape(2,5)\n",
        "b = a > 5\n",
        "\n",
        "print(a,\"\\n\")\n",
        "print(b,\"\\n\")\n",
        "\n",
        "#prints only the elements greater than 5\n",
        "print(a[b],\"\\n\")\n",
        "\n",
        "#Replaces all the elements greater than 5 to 1\n",
        "a[b] = 1\n",
        "print(a)"
      ],
      "metadata": {
        "colab": {
          "base_uri": "https://localhost:8080/"
        },
        "id": "o3kQircTWGgj",
        "outputId": "be454439-f70e-46f6-f052-fcc2c8f0b849"
      },
      "execution_count": 26,
      "outputs": [
        {
          "output_type": "stream",
          "name": "stdout",
          "text": [
            "[[0 1 2 3 4]\n",
            " [5 6 7 8 9]] \n",
            "\n",
            "[[False False False False False]\n",
            " [False  True  True  True  True]] \n",
            "\n",
            "[6 7 8 9] \n",
            "\n",
            "[[0 1 2 3 4]\n",
            " [5 1 1 1 1]]\n"
          ]
        }
      ]
    },
    {
      "cell_type": "markdown",
      "source": [
        "###Iterate numpy array using nditer"
      ],
      "metadata": {
        "id": "9NDX-U54XVmC"
      }
    },
    {
      "cell_type": "code",
      "source": [
        "import numpy as np \n",
        "a = np.array([(1,2,3),\n",
        "             (4,5,6),\n",
        "             (7,8,9)])\n",
        "\n",
        "#print the elements using flatten\n",
        "for cell in a.flatten():\n",
        "  print(cell)\n",
        "print(\"\\n\") \n",
        "\n",
        "#print the elements using nditer\n",
        "for x in np.nditer(a , order = \"C\"):\n",
        "  print(x)\n",
        "print(\"\\n\")\n",
        "\n",
        "for x in np.nditer(a , order = \"F\"):\n",
        "  print(x)\n",
        "print(\"\\n\")\n",
        "\n",
        "#print the entire column in one iteration\n",
        "for x in np.nditer(a , order = \"F\",flags = [\"external_loop\"]):\n",
        "  print(x)\n",
        "print(\"\\n\")\n",
        "\n",
        "#op_flags on for loop\n",
        "for x in np.nditer(a , op_flags = [\"readwrite\"]):\n",
        "  x[...] = x*x\n",
        "print(a,\"\\n\")\n"
      ],
      "metadata": {
        "colab": {
          "base_uri": "https://localhost:8080/"
        },
        "id": "f8hKZXyUXceT",
        "outputId": "c079dd17-db21-4a70-ece0-6e9ffed16fd0"
      },
      "execution_count": 34,
      "outputs": [
        {
          "output_type": "stream",
          "name": "stdout",
          "text": [
            "1\n",
            "2\n",
            "3\n",
            "4\n",
            "5\n",
            "6\n",
            "7\n",
            "8\n",
            "9\n",
            "\n",
            "\n",
            "1\n",
            "2\n",
            "3\n",
            "4\n",
            "5\n",
            "6\n",
            "7\n",
            "8\n",
            "9\n",
            "\n",
            "\n",
            "1\n",
            "4\n",
            "7\n",
            "2\n",
            "5\n",
            "8\n",
            "3\n",
            "6\n",
            "9\n",
            "\n",
            "\n",
            "[1 4 7]\n",
            "[2 5 8]\n",
            "[3 6 9]\n",
            "\n",
            "\n",
            "[[ 1  4  9]\n",
            " [16 25 36]\n",
            " [49 64 81]] \n",
            "\n"
          ]
        }
      ]
    },
    {
      "cell_type": "markdown",
      "source": [
        "* Iterating through two arrays :\n",
        "  * There shape should be same. \n",
        "  * One of the dimensions in one of the arrays should be same."
      ],
      "metadata": {
        "id": "N1aoFdYGcJll"
      }
    },
    {
      "cell_type": "code",
      "source": [
        "import numpy as np \n",
        "a = np.arange(6).reshape(3,2)\n",
        "b = np.arange(6,9).reshape(3,1)\n",
        "\n",
        "for x,y in np.nditer([a,b]):\n",
        "  print(x,y)"
      ],
      "metadata": {
        "colab": {
          "base_uri": "https://localhost:8080/"
        },
        "id": "6OrRvpUach_d",
        "outputId": "633b85ce-677c-4643-cbea-ec08c9a82f7a"
      },
      "execution_count": 39,
      "outputs": [
        {
          "output_type": "stream",
          "name": "stdout",
          "text": [
            "0 6\n",
            "1 6\n",
            "2 7\n",
            "3 7\n",
            "4 8\n",
            "5 8\n"
          ]
        }
      ]
    }
  ]
}